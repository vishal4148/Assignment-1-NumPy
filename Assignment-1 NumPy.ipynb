{
 "cells": [
  {
   "cell_type": "markdown",
   "id": "5cb660c2",
   "metadata": {},
   "source": [
    "## 1. Create a null vector of size 10 but the fifth value which is 1"
   ]
  },
  {
   "cell_type": "code",
   "execution_count": 1,
   "id": "1a5b328a",
   "metadata": {},
   "outputs": [
    {
     "data": {
      "text/plain": [
       "array([0, 0, 0, 0, 1, 0, 0, 0, 0, 0])"
      ]
     },
     "execution_count": 1,
     "metadata": {},
     "output_type": "execute_result"
    }
   ],
   "source": [
    "import numpy as np\n",
    "(np.arange(10)==4).astype(int)"
   ]
  },
  {
   "cell_type": "code",
   "execution_count": null,
   "id": "6d460529",
   "metadata": {},
   "outputs": [],
   "source": []
  },
  {
   "cell_type": "markdown",
   "id": "fb5f1906",
   "metadata": {},
   "source": [
    "## 2. Create a vector with values ranging from 10 to 49."
   ]
  },
  {
   "cell_type": "code",
   "execution_count": 2,
   "id": "1435ac85",
   "metadata": {},
   "outputs": [
    {
     "data": {
      "text/plain": [
       "array([10, 11, 12, 13, 14, 15, 16, 17, 18, 19, 20, 21, 22, 23, 24, 25, 26,\n",
       "       27, 28, 29, 30, 31, 32, 33, 34, 35, 36, 37, 38, 39, 40, 41, 42, 43,\n",
       "       44, 45, 46, 47, 48, 49])"
      ]
     },
     "execution_count": 2,
     "metadata": {},
     "output_type": "execute_result"
    }
   ],
   "source": [
    "np.arange(10,50)"
   ]
  },
  {
   "cell_type": "code",
   "execution_count": null,
   "id": "c4f1581a",
   "metadata": {},
   "outputs": [],
   "source": []
  },
  {
   "cell_type": "markdown",
   "id": "038e645e",
   "metadata": {},
   "source": [
    "## 3. Create a 3x3 matrix with values ranging from 0 to 8"
   ]
  },
  {
   "cell_type": "code",
   "execution_count": 3,
   "id": "e6e9c85b",
   "metadata": {},
   "outputs": [
    {
     "data": {
      "text/plain": [
       "array([[0, 1, 2],\n",
       "       [3, 4, 5],\n",
       "       [6, 7, 8]])"
      ]
     },
     "execution_count": 3,
     "metadata": {},
     "output_type": "execute_result"
    }
   ],
   "source": [
    "x=np.arange(0,9).reshape(3,3)\n",
    "x"
   ]
  },
  {
   "cell_type": "code",
   "execution_count": null,
   "id": "2d093826",
   "metadata": {},
   "outputs": [],
   "source": []
  },
  {
   "cell_type": "markdown",
   "id": "20e50a9d",
   "metadata": {},
   "source": [
    "## 4. Find indices of non-zero elements from [1,2,0,0,4,0]"
   ]
  },
  {
   "cell_type": "code",
   "execution_count": 4,
   "id": "5212ba26",
   "metadata": {},
   "outputs": [
    {
     "name": "stdout",
     "output_type": "stream",
     "text": [
      "indices of non-zero elements are: (array([0, 1, 4], dtype=int64),)\n"
     ]
    }
   ],
   "source": [
    "x=np.array([1,2,0,0,4,0])\n",
    "print(\"indices of non-zero elements are:\",np.nonzero(x))"
   ]
  },
  {
   "cell_type": "code",
   "execution_count": null,
   "id": "b5ad878a",
   "metadata": {},
   "outputs": [],
   "source": []
  },
  {
   "cell_type": "markdown",
   "id": "7925adf7",
   "metadata": {},
   "source": [
    "## 5. Create a 10x10 array with random values and find the minimum and maximum values."
   ]
  },
  {
   "cell_type": "code",
   "execution_count": 5,
   "id": "3211a9c4",
   "metadata": {},
   "outputs": [
    {
     "name": "stdout",
     "output_type": "stream",
     "text": [
      "minimum value: 0.010273241166361746\n",
      "maximum value: 0.9934801882580969\n",
      "[[0.69247835 0.52331298 0.23671348 0.74098752 0.65862086 0.73708657\n",
      "  0.33040053 0.59697637 0.26397198 0.2263495 ]\n",
      " [0.93293735 0.85474671 0.5791615  0.21205097 0.09356606 0.99348019\n",
      "  0.55009209 0.86048331 0.84318759 0.61287092]\n",
      " [0.37327181 0.84733661 0.1846026  0.93612871 0.71595991 0.7316266\n",
      "  0.73625526 0.33816418 0.49786797 0.77236344]\n",
      " [0.34738172 0.12872581 0.1853716  0.43832446 0.99081996 0.40531183\n",
      "  0.53836481 0.52147961 0.78487438 0.1368305 ]\n",
      " [0.34962166 0.30259769 0.92396279 0.60756169 0.3493314  0.9743896\n",
      "  0.66303215 0.39112551 0.06992356 0.11284161]\n",
      " [0.25032353 0.147946   0.28243351 0.52001859 0.09259517 0.03827176\n",
      "  0.10176551 0.95646138 0.35705944 0.26434088]\n",
      " [0.0735936  0.48076331 0.26219922 0.33939667 0.1555383  0.45770951\n",
      "  0.49829081 0.43489322 0.6050932  0.88030693]\n",
      " [0.87474272 0.21480801 0.24528346 0.03797191 0.01690339 0.2263564\n",
      "  0.29789741 0.26527066 0.05077372 0.25405572]\n",
      " [0.09632119 0.88413329 0.01027324 0.93092509 0.36939905 0.47130292\n",
      "  0.66951114 0.7253664  0.0777425  0.65346868]\n",
      " [0.13132561 0.27971531 0.43997479 0.55855699 0.15794641 0.27451643\n",
      "  0.4673749  0.07028998 0.86223848 0.5809897 ]]\n"
     ]
    }
   ],
   "source": [
    "import random\n",
    "random.seed(10)\n",
    "x=np.random.random(size=(10,10))\n",
    "print(\"minimum value:\",x.min())\n",
    "print(\"maximum value:\",x.max())\n",
    "print(x)"
   ]
  },
  {
   "cell_type": "code",
   "execution_count": null,
   "id": "bcfe78a8",
   "metadata": {},
   "outputs": [],
   "source": []
  },
  {
   "cell_type": "markdown",
   "id": "13efe0ba",
   "metadata": {},
   "source": [
    "## 6. Create a random vector of size 30 and find the mean value."
   ]
  },
  {
   "cell_type": "code",
   "execution_count": 6,
   "id": "36eef202",
   "metadata": {},
   "outputs": [
    {
     "name": "stdout",
     "output_type": "stream",
     "text": [
      "mean: 0.538963250113441\n"
     ]
    }
   ],
   "source": [
    "arr=np.random.random((5,6))\n",
    "Mean_value_of_the_matrix=np.mean(arr)\n",
    "print(\"mean:\",Mean_value_of_the_matrix)"
   ]
  },
  {
   "cell_type": "code",
   "execution_count": null,
   "id": "83e88828",
   "metadata": {},
   "outputs": [],
   "source": []
  }
 ],
 "metadata": {
  "kernelspec": {
   "display_name": "Python 3 (ipykernel)",
   "language": "python",
   "name": "python3"
  },
  "language_info": {
   "codemirror_mode": {
    "name": "ipython",
    "version": 3
   },
   "file_extension": ".py",
   "mimetype": "text/x-python",
   "name": "python",
   "nbconvert_exporter": "python",
   "pygments_lexer": "ipython3",
   "version": "3.10.0"
  }
 },
 "nbformat": 4,
 "nbformat_minor": 5
}
